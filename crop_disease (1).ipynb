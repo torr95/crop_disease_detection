{
  "nbformat": 4,
  "nbformat_minor": 0,
  "metadata": {
    "colab": {
      "name": "crop_disease.ipynb",
      "version": "0.3.2",
      "views": {},
      "default_view": {},
      "provenance": []
    },
    "kernelspec": {
      "name": "python3",
      "display_name": "Python 3"
    },
    "accelerator": "GPU"
  },
  "cells": [
    {
      "metadata": {
        "id": "eBC0BQVfDSMi",
        "colab_type": "code",
        "colab": {
          "autoexec": {
            "startup": false,
            "wait_interval": 0
          },
          "base_uri": "https://localhost:8080/",
          "height": 109
        },
        "outputId": "60f5fa6c-5dce-4a44-b25d-af128cfa400a",
        "executionInfo": {
          "status": "ok",
          "timestamp": 1523985649585,
          "user_tz": -330,
          "elapsed": 23480,
          "user": {
            "displayName": "ayush gupta",
            "photoUrl": "//lh5.googleusercontent.com/-SmYRJDgC_jI/AAAAAAAAAAI/AAAAAAAACvk/Iqu4XSMC0tM/s50-c-k-no/photo.jpg",
            "userId": "107111856202799795670"
          }
        }
      },
      "cell_type": "code",
      "source": [
        "!apt-get install -y -qq software-properties-common python-software-properties module-init-tools\n",
        "!add-apt-repository -y ppa:alessandro-strada/ppa 2>&1 > /dev/null\n",
        "!apt-get update -qq 2>&1 > /dev/null\n",
        "!apt-get -y install -qq google-drive-ocamlfuse fuse\n",
        "from google.colab import auth\n",
        "auth.authenticate_user()\n",
        "from oauth2client.client import GoogleCredentials\n",
        "creds = GoogleCredentials.get_application_default()\n",
        "import getpass\n",
        "!google-drive-ocamlfuse -headless -id={creds.client_id} -secret={creds.client_secret} < /dev/null 2>&1 | grep URL\n",
        "vcode = getpass.getpass()\n",
        "!echo {vcode} | google-drive-ocamlfuse -headless -id={creds.client_id} -secret={creds.client_secret}"
      ],
      "execution_count": 2,
      "outputs": [
        {
          "output_type": "stream",
          "text": [
            "Please, open the following URL in a web browser: https://accounts.google.com/o/oauth2/auth?client_id=32555940559.apps.googleusercontent.com&redirect_uri=urn%3Aietf%3Awg%3Aoauth%3A2.0%3Aoob&scope=https%3A%2F%2Fwww.googleapis.com%2Fauth%2Fdrive&response_type=code&access_type=offline&approval_prompt=force\r\n",
            "··········\n",
            "Please, open the following URL in a web browser: https://accounts.google.com/o/oauth2/auth?client_id=32555940559.apps.googleusercontent.com&redirect_uri=urn%3Aietf%3Awg%3Aoauth%3A2.0%3Aoob&scope=https%3A%2F%2Fwww.googleapis.com%2Fauth%2Fdrive&response_type=code&access_type=offline&approval_prompt=force\n",
            "Please enter the verification code: Access token retrieved correctly.\n"
          ],
          "name": "stdout"
        }
      ]
    },
    {
      "metadata": {
        "id": "UgBURBWVLBZ2",
        "colab_type": "code",
        "colab": {
          "autoexec": {
            "startup": false,
            "wait_interval": 0
          }
        }
      },
      "cell_type": "code",
      "source": [
        "!mkdir -p drive\n",
        "!google-drive-ocamlfuse drive"
      ],
      "execution_count": 0,
      "outputs": []
    },
    {
      "metadata": {
        "id": "N6N-grtbLBjN",
        "colab_type": "code",
        "colab": {
          "autoexec": {
            "startup": false,
            "wait_interval": 0
          },
          "base_uri": "https://localhost:8080/",
          "height": 125
        },
        "outputId": "3453984b-d786-4533-cfc3-9d7434c6ecea",
        "executionInfo": {
          "status": "ok",
          "timestamp": 1523985876920,
          "user_tz": -330,
          "elapsed": 222860,
          "user": {
            "displayName": "ayush gupta",
            "photoUrl": "//lh5.googleusercontent.com/-SmYRJDgC_jI/AAAAAAAAAAI/AAAAAAAACvk/Iqu4XSMC0tM/s50-c-k-no/photo.jpg",
            "userId": "107111856202799795670"
          }
        }
      },
      "cell_type": "code",
      "source": [
        "!git clone https://github.com/salathegroup/plantvillage_deeplearning_paper_dataset.git"
      ],
      "execution_count": 4,
      "outputs": [
        {
          "output_type": "stream",
          "text": [
            "Cloning into 'plantvillage_deeplearning_paper_dataset'...\n",
            "remote: Counting objects: 163224, done.\u001b[K\n",
            "remote: Total 163224 (delta 0), reused 0 (delta 0), pack-reused 163224\u001b[K\n",
            "Receiving objects: 100% (163224/163224), 2.00 GiB | 10.83 MiB/s, done.\n",
            "Resolving deltas: 100% (134/134), done.\n",
            "Checking out files: 100% (182401/182401), done.\n"
          ],
          "name": "stdout"
        }
      ]
    },
    {
      "metadata": {
        "id": "uyCZVuecd1vR",
        "colab_type": "code",
        "colab": {
          "autoexec": {
            "startup": false,
            "wait_interval": 0
          },
          "base_uri": "https://localhost:8080/",
          "height": 35
        },
        "outputId": "82249e93-79bb-4b50-b768-c83464a8178b",
        "executionInfo": {
          "status": "ok",
          "timestamp": 1523985888728,
          "user_tz": -330,
          "elapsed": 11745,
          "user": {
            "displayName": "ayush gupta",
            "photoUrl": "//lh5.googleusercontent.com/-SmYRJDgC_jI/AAAAAAAAAAI/AAAAAAAACvk/Iqu4XSMC0tM/s50-c-k-no/photo.jpg",
            "userId": "107111856202799795670"
          }
        }
      },
      "cell_type": "code",
      "source": [
        "from keras.preprocessing.image import array_to_img, img_to_array, load_img\n",
        "from keras.models import Sequential\n",
        "from keras.layers import Conv2D, MaxPooling2D\n",
        "from keras.layers import Activation, Dropout, Flatten, Dense\n",
        "import cv2\n",
        "import keras\n",
        "import pickle\n",
        "import matplotlib.pyplot as plt"
      ],
      "execution_count": 5,
      "outputs": [
        {
          "output_type": "stream",
          "text": [
            "Using TensorFlow backend.\n"
          ],
          "name": "stderr"
        }
      ]
    },
    {
      "metadata": {
        "id": "SMPJE-GkWk3C",
        "colab_type": "code",
        "colab": {
          "autoexec": {
            "startup": false,
            "wait_interval": 0
          },
          "base_uri": "https://localhost:8080/",
          "height": 701
        },
        "outputId": "3ec926d5-9f96-4e99-8341-0f85b96f10fe",
        "executionInfo": {
          "status": "ok",
          "timestamp": 1523985892035,
          "user_tz": -330,
          "elapsed": 3235,
          "user": {
            "displayName": "ayush gupta",
            "photoUrl": "//lh5.googleusercontent.com/-SmYRJDgC_jI/AAAAAAAAAAI/AAAAAAAACvk/Iqu4XSMC0tM/s50-c-k-no/photo.jpg",
            "userId": "107111856202799795670"
          }
        }
      },
      "cell_type": "code",
      "source": [
        "import os\n",
        "PATH = os.getcwd()\n",
        "# Define data path\n",
        "data_path = 'plantvillage_deeplearning_paper_dataset/raw/segmented'\n",
        "data_dir_list = os.listdir(data_path)\n",
        "data_dir_list"
      ],
      "execution_count": 6,
      "outputs": [
        {
          "output_type": "execute_result",
          "data": {
            "text/plain": [
              "['Grape___Black_rot',\n",
              " 'Potato___Early_blight',\n",
              " 'Tomato___Spider_mites Two-spotted_spider_mite',\n",
              " 'Raspberry___healthy',\n",
              " 'Pepper,_bell___healthy',\n",
              " 'Apple___healthy',\n",
              " 'Tomato___Target_Spot',\n",
              " 'Apple___Black_rot',\n",
              " 'Strawberry___healthy',\n",
              " 'Cherry_(including_sour)___Powdery_mildew',\n",
              " 'Blueberry___healthy',\n",
              " 'Tomato___Bacterial_spot',\n",
              " 'Grape___Esca_(Black_Measles)',\n",
              " 'Tomato___Septoria_leaf_spot',\n",
              " 'Pepper,_bell___Bacterial_spot',\n",
              " 'Corn_(maize)___healthy',\n",
              " 'Potato___healthy',\n",
              " 'Corn_(maize)___Northern_Leaf_Blight',\n",
              " 'Tomato___Tomato_Yellow_Leaf_Curl_Virus',\n",
              " 'Soybean___healthy',\n",
              " 'Tomato___Tomato_mosaic_virus',\n",
              " 'Corn_(maize)___Cercospora_leaf_spot Gray_leaf_spot',\n",
              " 'Grape___healthy',\n",
              " 'Apple___Apple_scab',\n",
              " 'Apple___Cedar_apple_rust',\n",
              " 'Cherry_(including_sour)___healthy',\n",
              " 'Corn_(maize)___Common_rust_',\n",
              " 'Orange___Haunglongbing_(Citrus_greening)',\n",
              " 'Peach___healthy',\n",
              " 'Tomato___healthy',\n",
              " 'Squash___Powdery_mildew',\n",
              " 'Tomato___Leaf_Mold',\n",
              " 'Tomato___Late_blight',\n",
              " 'Strawberry___Leaf_scorch',\n",
              " 'Potato___Late_blight',\n",
              " 'Peach___Bacterial_spot',\n",
              " 'Grape___Leaf_blight_(Isariopsis_Leaf_Spot)',\n",
              " 'Tomato___Early_blight']"
            ]
          },
          "metadata": {
            "tags": []
          },
          "execution_count": 6
        }
      ]
    },
    {
      "metadata": {
        "id": "Fwg0To7-XNlY",
        "colab_type": "code",
        "colab": {
          "autoexec": {
            "startup": false,
            "wait_interval": 0
          }
        }
      },
      "cell_type": "code",
      "source": [
        "crops=['Potato','Apple']"
      ],
      "execution_count": 0,
      "outputs": []
    },
    {
      "metadata": {
        "id": "s0zwAZsUbtXz",
        "colab_type": "code",
        "colab": {
          "autoexec": {
            "startup": false,
            "wait_interval": 0
          },
          "base_uri": "https://localhost:8080/",
          "height": 395
        },
        "outputId": "601acf12-3be1-4099-87ff-b54853aeb860",
        "executionInfo": {
          "status": "ok",
          "timestamp": 1523985902880,
          "user_tz": -330,
          "elapsed": 6391,
          "user": {
            "displayName": "ayush gupta",
            "photoUrl": "//lh5.googleusercontent.com/-SmYRJDgC_jI/AAAAAAAAAAI/AAAAAAAACvk/Iqu4XSMC0tM/s50-c-k-no/photo.jpg",
            "userId": "107111856202799795670"
          }
        }
      },
      "cell_type": "code",
      "source": [
        "img_data_list=[]\n",
        "label=[]\n",
        "classes={}\n",
        "l=-1\n",
        "for dataset in data_dir_list:\n",
        "  if any(x in dataset for x in crops):\n",
        "    img_list=os.listdir(data_path+'/'+ dataset)\n",
        "    l=l+1\n",
        "    classes[l]=dataset\n",
        "    print('l=',l)\n",
        "    print ('Loaded the images of dataset-'+'{}\\n'.format(dataset))\n",
        "    for img in img_list:\n",
        "      input_img=cv2.imread(data_path + '/'+ dataset + '/'+ img )\n",
        "      input_img=cv2.cvtColor(input_img, cv2.COLOR_BGR2GRAY)\n",
        "      input_img_resize=cv2.resize(input_img,(128,128))\n",
        "      img_data_list.append(input_img_resize)\n",
        "      label.append(l)"
      ],
      "execution_count": 8,
      "outputs": [
        {
          "output_type": "stream",
          "text": [
            "l= 0\n",
            "Loaded the images of dataset-Potato___Early_blight\n",
            "\n",
            "l= 1\n",
            "Loaded the images of dataset-Apple___healthy\n",
            "\n",
            "l= 2\n",
            "Loaded the images of dataset-Apple___Black_rot\n",
            "\n",
            "l= 3\n",
            "Loaded the images of dataset-Potato___healthy\n",
            "\n",
            "l= 4\n",
            "Loaded the images of dataset-Apple___Apple_scab\n",
            "\n",
            "l= 5\n",
            "Loaded the images of dataset-Apple___Cedar_apple_rust\n",
            "\n",
            "l= 6\n",
            "Loaded the images of dataset-Potato___Late_blight\n",
            "\n"
          ],
          "name": "stdout"
        }
      ]
    },
    {
      "metadata": {
        "id": "e9ANH--zLBg2",
        "colab_type": "code",
        "colab": {
          "autoexec": {
            "startup": false,
            "wait_interval": 0
          },
          "base_uri": "https://localhost:8080/",
          "height": 71
        },
        "outputId": "5e7d652f-d237-47ff-bc75-b994ae234b29",
        "executionInfo": {
          "status": "ok",
          "timestamp": 1523985905189,
          "user_tz": -330,
          "elapsed": 2287,
          "user": {
            "displayName": "ayush gupta",
            "photoUrl": "//lh5.googleusercontent.com/-SmYRJDgC_jI/AAAAAAAAAAI/AAAAAAAACvk/Iqu4XSMC0tM/s50-c-k-no/photo.jpg",
            "userId": "107111856202799795670"
          }
        }
      },
      "cell_type": "code",
      "source": [
        "!free -m"
      ],
      "execution_count": 9,
      "outputs": [
        {
          "output_type": "stream",
          "text": [
            "              total        used        free      shared  buff/cache   available\r\n",
            "Mem:          13029         574         169         220       12284       11986\r\n",
            "Swap:             0           0           0\r\n"
          ],
          "name": "stdout"
        }
      ]
    },
    {
      "metadata": {
        "id": "WFecQRcfLBlj",
        "colab_type": "code",
        "colab": {
          "autoexec": {
            "startup": false,
            "wait_interval": 0
          },
          "base_uri": "https://localhost:8080/",
          "height": 73
        },
        "outputId": "b2f74c85-422a-44f6-e4e8-bc5561c2d390",
        "executionInfo": {
          "status": "ok",
          "timestamp": 1523985906956,
          "user_tz": -330,
          "elapsed": 1647,
          "user": {
            "displayName": "ayush gupta",
            "photoUrl": "//lh5.googleusercontent.com/-SmYRJDgC_jI/AAAAAAAAAAI/AAAAAAAACvk/Iqu4XSMC0tM/s50-c-k-no/photo.jpg",
            "userId": "107111856202799795670"
          }
        }
      },
      "cell_type": "code",
      "source": [
        "print(len(img_data_list),len(label))\n",
        "print(classes)"
      ],
      "execution_count": 10,
      "outputs": [
        {
          "output_type": "stream",
          "text": [
            "5323 5323\n",
            "{0: 'Potato___Early_blight', 1: 'Apple___healthy', 2: 'Apple___Black_rot', 3: 'Potato___healthy', 4: 'Apple___Apple_scab', 5: 'Apple___Cedar_apple_rust', 6: 'Potato___Late_blight'}\n"
          ],
          "name": "stdout"
        }
      ]
    },
    {
      "metadata": {
        "id": "xqWBLsJ7LBns",
        "colab_type": "code",
        "colab": {
          "autoexec": {
            "startup": false,
            "wait_interval": 0
          },
          "base_uri": "https://localhost:8080/",
          "height": 161
        },
        "outputId": "bef35de7-fa77-4799-8f65-36ab116711de",
        "executionInfo": {
          "status": "ok",
          "timestamp": 1523985908269,
          "user_tz": -330,
          "elapsed": 1216,
          "user": {
            "displayName": "ayush gupta",
            "photoUrl": "//lh5.googleusercontent.com/-SmYRJDgC_jI/AAAAAAAAAAI/AAAAAAAACvk/Iqu4XSMC0tM/s50-c-k-no/photo.jpg",
            "userId": "107111856202799795670"
          }
        }
      },
      "cell_type": "code",
      "source": [
        "print(img_data_list[0])\n",
        "print(label[0])"
      ],
      "execution_count": 11,
      "outputs": [
        {
          "output_type": "stream",
          "text": [
            "[[0 0 0 ... 0 0 0]\n",
            " [0 0 0 ... 0 0 0]\n",
            " [0 0 0 ... 0 0 0]\n",
            " ...\n",
            " [0 0 0 ... 0 0 0]\n",
            " [0 0 0 ... 0 0 0]\n",
            " [0 0 0 ... 0 0 0]]\n",
            "0\n"
          ],
          "name": "stdout"
        }
      ]
    },
    {
      "metadata": {
        "id": "lWWjNnphLBqJ",
        "colab_type": "code",
        "colab": {
          "autoexec": {
            "startup": false,
            "wait_interval": 0
          }
        }
      },
      "cell_type": "code",
      "source": [
        "import numpy as np\n",
        "data=np.asarray(img_data_list)\n",
        "\n",
        "label=np.asarray(label)"
      ],
      "execution_count": 0,
      "outputs": []
    },
    {
      "metadata": {
        "id": "aZPFydRNLBs9",
        "colab_type": "code",
        "colab": {
          "autoexec": {
            "startup": false,
            "wait_interval": 0
          },
          "base_uri": "https://localhost:8080/",
          "height": 35
        },
        "outputId": "cb4a2be0-b0a2-42c0-d531-f5abc5caa777",
        "executionInfo": {
          "status": "ok",
          "timestamp": 1523985913307,
          "user_tz": -330,
          "elapsed": 2572,
          "user": {
            "displayName": "ayush gupta",
            "photoUrl": "//lh5.googleusercontent.com/-SmYRJDgC_jI/AAAAAAAAAAI/AAAAAAAACvk/Iqu4XSMC0tM/s50-c-k-no/photo.jpg",
            "userId": "107111856202799795670"
          }
        }
      },
      "cell_type": "code",
      "source": [
        "data.shape"
      ],
      "execution_count": 13,
      "outputs": [
        {
          "output_type": "execute_result",
          "data": {
            "text/plain": [
              "(5323, 128, 128)"
            ]
          },
          "metadata": {
            "tags": []
          },
          "execution_count": 13
        }
      ]
    },
    {
      "metadata": {
        "id": "5405If9JLBvs",
        "colab_type": "code",
        "colab": {
          "autoexec": {
            "startup": false,
            "wait_interval": 0
          },
          "base_uri": "https://localhost:8080/",
          "height": 35
        },
        "outputId": "a75f5917-ec82-46ec-eccf-4d01f8c45ebe",
        "executionInfo": {
          "status": "ok",
          "timestamp": 1523985916000,
          "user_tz": -330,
          "elapsed": 2607,
          "user": {
            "displayName": "ayush gupta",
            "photoUrl": "//lh5.googleusercontent.com/-SmYRJDgC_jI/AAAAAAAAAAI/AAAAAAAACvk/Iqu4XSMC0tM/s50-c-k-no/photo.jpg",
            "userId": "107111856202799795670"
          }
        }
      },
      "cell_type": "code",
      "source": [
        "label.shape"
      ],
      "execution_count": 14,
      "outputs": [
        {
          "output_type": "execute_result",
          "data": {
            "text/plain": [
              "(5323,)"
            ]
          },
          "metadata": {
            "tags": []
          },
          "execution_count": 14
        }
      ]
    },
    {
      "metadata": {
        "id": "LdyXb_HpLBxi",
        "colab_type": "code",
        "colab": {
          "autoexec": {
            "startup": false,
            "wait_interval": 0
          }
        }
      },
      "cell_type": "code",
      "source": [
        "from sklearn.model_selection import train_test_split\n",
        "train_data,test_data,train_label,test_label=train_test_split(data,label,test_size=0.33,random_state=16)"
      ],
      "execution_count": 0,
      "outputs": []
    },
    {
      "metadata": {
        "id": "MIk7LI07g0UE",
        "colab_type": "code",
        "colab": {
          "autoexec": {
            "startup": false,
            "wait_interval": 0
          },
          "base_uri": "https://localhost:8080/",
          "height": 35
        },
        "outputId": "eaeb6bea-3448-4cd5-dac2-762f65255e68",
        "executionInfo": {
          "status": "ok",
          "timestamp": 1523985919074,
          "user_tz": -330,
          "elapsed": 1328,
          "user": {
            "displayName": "ayush gupta",
            "photoUrl": "//lh5.googleusercontent.com/-SmYRJDgC_jI/AAAAAAAAAAI/AAAAAAAACvk/Iqu4XSMC0tM/s50-c-k-no/photo.jpg",
            "userId": "107111856202799795670"
          }
        }
      },
      "cell_type": "code",
      "source": [
        "train_data.shape[0]"
      ],
      "execution_count": 16,
      "outputs": [
        {
          "output_type": "execute_result",
          "data": {
            "text/plain": [
              "3566"
            ]
          },
          "metadata": {
            "tags": []
          },
          "execution_count": 16
        }
      ]
    },
    {
      "metadata": {
        "id": "pjLyg6WIffN9",
        "colab_type": "code",
        "colab": {
          "autoexec": {
            "startup": false,
            "wait_interval": 0
          }
        }
      },
      "cell_type": "code",
      "source": [
        "# input image dimensions\n",
        "img_x, img_y = 128,128\n",
        "x_train = train_data.reshape(train_data.shape[0], img_x, img_y, 1)\n",
        "x_test = test_data.reshape(test_data.shape[0], img_x, img_y, 1)\n",
        "\n",
        "input_shape = (img_x, img_y, 1)"
      ],
      "execution_count": 0,
      "outputs": []
    },
    {
      "metadata": {
        "id": "L1N8VX8fg69x",
        "colab_type": "code",
        "colab": {
          "autoexec": {
            "startup": false,
            "wait_interval": 0
          }
        }
      },
      "cell_type": "code",
      "source": [
        "# convert the data to the right type\n",
        "x_train = x_train.astype('float32')\n",
        "x_test = x_test.astype('float32')\n",
        "x_train /= 255\n",
        "x_test /= 255"
      ],
      "execution_count": 0,
      "outputs": []
    },
    {
      "metadata": {
        "id": "vv7EPk1affTe",
        "colab_type": "code",
        "colab": {
          "autoexec": {
            "startup": false,
            "wait_interval": 0
          },
          "base_uri": "https://localhost:8080/",
          "height": 71
        },
        "outputId": "2c4d3c1a-766b-400f-dc2d-819b3059dff2",
        "executionInfo": {
          "status": "ok",
          "timestamp": 1523985923572,
          "user_tz": -330,
          "elapsed": 1647,
          "user": {
            "displayName": "ayush gupta",
            "photoUrl": "//lh5.googleusercontent.com/-SmYRJDgC_jI/AAAAAAAAAAI/AAAAAAAACvk/Iqu4XSMC0tM/s50-c-k-no/photo.jpg",
            "userId": "107111856202799795670"
          }
        }
      },
      "cell_type": "code",
      "source": [
        "print('x_train shape:', x_train.shape)\n",
        "print(x_train.shape[0], 'train samples')\n",
        "print(x_test.shape[0], 'test samples')"
      ],
      "execution_count": 19,
      "outputs": [
        {
          "output_type": "stream",
          "text": [
            "x_train shape: (3566, 128, 128, 1)\n",
            "3566 train samples\n",
            "1757 test samples\n"
          ],
          "name": "stdout"
        }
      ]
    },
    {
      "metadata": {
        "id": "jxFwZSH-ffVw",
        "colab_type": "code",
        "colab": {
          "autoexec": {
            "startup": false,
            "wait_interval": 0
          }
        }
      },
      "cell_type": "code",
      "source": [
        "# convert class vectors to binary class matrices - this is for use in the\n",
        "# categorical_crossentropy loss below\n",
        "num_classes=7\n",
        "y_train=train_label\n",
        "y_test=test_label\n",
        "y_train = keras.utils.to_categorical(y_train, num_classes)\n",
        "y_test = keras.utils.to_categorical(y_test, num_classes)"
      ],
      "execution_count": 0,
      "outputs": []
    },
    {
      "metadata": {
        "id": "6D8zDEy3ffYF",
        "colab_type": "code",
        "colab": {
          "autoexec": {
            "startup": false,
            "wait_interval": 0
          },
          "base_uri": "https://localhost:8080/",
          "height": 350
        },
        "outputId": "e415af55-b380-4905-ba2c-727ba0a1a05f",
        "executionInfo": {
          "status": "ok",
          "timestamp": 1523985941630,
          "user_tz": -330,
          "elapsed": 16158,
          "user": {
            "displayName": "ayush gupta",
            "photoUrl": "//lh5.googleusercontent.com/-SmYRJDgC_jI/AAAAAAAAAAI/AAAAAAAACvk/Iqu4XSMC0tM/s50-c-k-no/photo.jpg",
            "userId": "107111856202799795670"
          }
        }
      },
      "cell_type": "code",
      "source": [
        "# Some examples\n",
        "g = plt.imshow(x_train[0][:,:,0])"
      ],
      "execution_count": 21,
      "outputs": [
        {
          "output_type": "display_data",
          "data": {
            "image/png": "[encoded data removed]",
            "text/plain": [
              "<matplotlib.figure.Figure at 0x7f5bd8198a58>"
            ]
          },
          "metadata": {
            "tags": []
          }
        }
      ]
    },
    {
      "metadata": {
        "id": "_K4dSMMMffae",
        "colab_type": "code",
        "colab": {
          "autoexec": {
            "startup": false,
            "wait_interval": 0
          },
          "base_uri": "https://localhost:8080/",
          "height": 575
        },
        "outputId": "1730405a-7c8d-4343-de86-0bd4fb5dab70",
        "executionInfo": {
          "status": "ok",
          "timestamp": 1523985944447,
          "user_tz": -330,
          "elapsed": 2722,
          "user": {
            "displayName": "ayush gupta",
            "photoUrl": "//lh5.googleusercontent.com/-SmYRJDgC_jI/AAAAAAAAAAI/AAAAAAAACvk/Iqu4XSMC0tM/s50-c-k-no/photo.jpg",
            "userId": "107111856202799795670"
          }
        }
      },
      "cell_type": "code",
      "source": [
        "from sklearn.model_selection import train_test_split\n",
        "from sklearn.metrics import confusion_matrix\n",
        "import itertools\n",
        "\n",
        "from keras.utils.np_utils import to_categorical # convert to one-hot-encoding\n",
        "from keras.models import Sequential\n",
        "from keras.layers import Dense, Dropout, Flatten, Conv2D, MaxPool2D\n",
        "from keras.optimizers import RMSprop\n",
        "from keras.preprocessing.image import ImageDataGenerator\n",
        "from keras.callbacks import ReduceLROnPlateau\n",
        "\n",
        "# Set the CNN model \n",
        "# my CNN architechture is In -> [[Conv2D->relu]*2 -> MaxPool2D -> Dropout]*2 -> Flatten -> Dense -> Dropout -> Out\n",
        "\n",
        "model = Sequential()\n",
        "\n",
        "model.add(Conv2D(filters = 32, kernel_size = (5,5),padding = 'Same', \n",
        "                 activation ='relu', input_shape = (128,128,1)))\n",
        "model.add(Conv2D(filters = 32, kernel_size = (5,5),padding = 'Same', \n",
        "                 activation ='relu'))\n",
        "model.add(MaxPool2D(pool_size=(2,2)))\n",
        "model.add(Dropout(0.25))\n",
        "\n",
        "\n",
        "model.add(Conv2D(filters = 64, kernel_size = (3,3),padding = 'Same', \n",
        "                 activation ='relu'))\n",
        "model.add(Conv2D(filters = 64, kernel_size = (3,3),padding = 'Same', \n",
        "                 activation ='relu'))\n",
        "model.add(MaxPool2D(pool_size=(2,2), strides=(2,2)))\n",
        "model.add(Dropout(0.25))\n",
        "\n",
        "\n",
        "model.add(Flatten())\n",
        "model.add(Dense(256, activation = \"relu\"))\n",
        "model.add(Dropout(0.5))\n",
        "model.add(Dense(7, activation = \"softmax\"))\n",
        "model.summary()"
      ],
      "execution_count": 22,
      "outputs": [
        {
          "output_type": "stream",
          "text": [
            "_________________________________________________________________\n",
            "Layer (type)                 Output Shape              Param #   \n",
            "=================================================================\n",
            "conv2d_1 (Conv2D)            (None, 128, 128, 32)      832       \n",
            "_________________________________________________________________\n",
            "conv2d_2 (Conv2D)            (None, 128, 128, 32)      25632     \n",
            "_________________________________________________________________\n",
            "max_pooling2d_1 (MaxPooling2 (None, 64, 64, 32)        0         \n",
            "_________________________________________________________________\n",
            "dropout_1 (Dropout)          (None, 64, 64, 32)        0         \n",
            "_________________________________________________________________\n",
            "conv2d_3 (Conv2D)            (None, 64, 64, 64)        18496     \n",
            "_________________________________________________________________\n",
            "conv2d_4 (Conv2D)            (None, 64, 64, 64)        36928     \n",
            "_________________________________________________________________\n",
            "max_pooling2d_2 (MaxPooling2 (None, 32, 32, 64)        0         \n",
            "_________________________________________________________________\n",
            "dropout_2 (Dropout)          (None, 32, 32, 64)        0         \n",
            "_________________________________________________________________\n",
            "flatten_1 (Flatten)          (None, 65536)             0         \n",
            "_________________________________________________________________\n",
            "dense_1 (Dense)              (None, 256)               16777472  \n",
            "_________________________________________________________________\n",
            "dropout_3 (Dropout)          (None, 256)               0         \n",
            "_________________________________________________________________\n",
            "dense_2 (Dense)              (None, 7)                 1799      \n",
            "=================================================================\n",
            "Total params: 16,861,159\n",
            "Trainable params: 16,861,159\n",
            "Non-trainable params: 0\n",
            "_________________________________________________________________\n"
          ],
          "name": "stdout"
        }
      ]
    },
    {
      "metadata": {
        "id": "CQbzThfHffdD",
        "colab_type": "code",
        "colab": {
          "autoexec": {
            "startup": false,
            "wait_interval": 0
          }
        }
      },
      "cell_type": "code",
      "source": [
        "# Define the optimizer\n",
        "optimizer = RMSprop(lr=0.001, rho=0.9, epsilon=1e-08, decay=0.0)"
      ],
      "execution_count": 0,
      "outputs": []
    },
    {
      "metadata": {
        "id": "4_OIhVfOfffJ",
        "colab_type": "code",
        "colab": {
          "autoexec": {
            "startup": false,
            "wait_interval": 0
          }
        }
      },
      "cell_type": "code",
      "source": [
        "# Compile the model\n",
        "model.compile(optimizer = optimizer , loss = \"categorical_crossentropy\", metrics=[\"accuracy\"])"
      ],
      "execution_count": 0,
      "outputs": []
    },
    {
      "metadata": {
        "id": "dJJRgZQ4ffhg",
        "colab_type": "code",
        "colab": {
          "autoexec": {
            "startup": false,
            "wait_interval": 0
          }
        }
      },
      "cell_type": "code",
      "source": [
        "# Set a learning rate annealer\n",
        "learning_rate_reduction = ReduceLROnPlateau(monitor='val_acc', \n",
        "                                            patience=3, \n",
        "                                            verbose=1, \n",
        "                                            factor=0.5, \n",
        "                                            min_lr=0.00001)"
      ],
      "execution_count": 0,
      "outputs": []
    },
    {
      "metadata": {
        "id": "pVbryK6ZffkV",
        "colab_type": "code",
        "colab": {
          "autoexec": {
            "startup": false,
            "wait_interval": 0
          }
        }
      },
      "cell_type": "code",
      "source": [
        "epochs = 30\n",
        "batch_size = 50"
      ],
      "execution_count": 0,
      "outputs": []
    },
    {
      "metadata": {
        "id": "zxnK9mdyffnP",
        "colab_type": "code",
        "colab": {
          "autoexec": {
            "startup": false,
            "wait_interval": 0
          }
        }
      },
      "cell_type": "code",
      "source": [
        "# With data augmentation to prevent overfitting (accuracy 0.99286)\n",
        "\n",
        "datagen = ImageDataGenerator(\n",
        "        featurewise_center=False,  # set input mean to 0 over the dataset\n",
        "        samplewise_center=False,  # set each sample mean to 0\n",
        "        featurewise_std_normalization=False,  # divide inputs by std of the dataset\n",
        "        samplewise_std_normalization=False,  # divide each input by its std\n",
        "        zca_whitening=False,  # apply ZCA whitening\n",
        "        rotation_range=10,  # randomly rotate images in the range (degrees, 0 to 180)\n",
        "        zoom_range = 0.1, # Randomly zoom image \n",
        "        width_shift_range=0.1,  # randomly shift images horizontally (fraction of total width)\n",
        "        height_shift_range=0.1,  # randomly shift images vertically (fraction of total height)\n",
        "        horizontal_flip=False,  # randomly flip images\n",
        "        vertical_flip=False)  # randomly flip images\n",
        "\n",
        "\n",
        "datagen.fit(x_train)"
      ],
      "execution_count": 0,
      "outputs": []
    },
    {
      "metadata": {
        "id": "gudoYxPoqtOp",
        "colab_type": "code",
        "colab": {
          "autoexec": {
            "startup": false,
            "wait_interval": 0
          },
          "base_uri": "https://localhost:8080/",
          "height": 1169
        },
        "outputId": "637dfc8d-49dc-4f22-e8d4-42adf07a5d83",
        "executionInfo": {
          "status": "ok",
          "timestamp": 1523986687107,
          "user_tz": -330,
          "elapsed": 546280,
          "user": {
            "displayName": "ayush gupta",
            "photoUrl": "//lh5.googleusercontent.com/-SmYRJDgC_jI/AAAAAAAAAAI/AAAAAAAACvk/Iqu4XSMC0tM/s50-c-k-no/photo.jpg",
            "userId": "107111856202799795670"
          }
        }
      },
      "cell_type": "code",
      "source": [
        "# Fit the model\n",
        "history = model.fit_generator(datagen.flow(x_train,y_train, batch_size=batch_size),\n",
        "                              epochs = epochs, validation_data = (x_test,y_test),\n",
        "                              verbose = 2, steps_per_epoch=x_train.shape[0] // batch_size\n",
        "                              , callbacks=[learning_rate_reduction])"
      ],
      "execution_count": 32,
      "outputs": [
        {
          "output_type": "stream",
          "text": [
            "Epoch 1/30\n",
            " - 18s - loss: 0.9349 - acc: 0.6728 - val_loss: 0.7164 - val_acc: 0.7575\n",
            "Epoch 2/30\n",
            " - 18s - loss: 0.8642 - acc: 0.7047 - val_loss: 0.6948 - val_acc: 0.7547\n",
            "Epoch 3/30\n",
            " - 18s - loss: 0.8367 - acc: 0.7058 - val_loss: 0.7247 - val_acc: 0.7553\n",
            "Epoch 4/30\n",
            " - 18s - loss: 0.8317 - acc: 0.7105 - val_loss: 0.8159 - val_acc: 0.7302\n",
            "Epoch 5/30\n",
            " - 18s - loss: 0.7942 - acc: 0.7223 - val_loss: 0.6263 - val_acc: 0.7843\n",
            "Epoch 6/30\n",
            " - 18s - loss: 0.7848 - acc: 0.7218 - val_loss: 0.6591 - val_acc: 0.7803\n",
            "Epoch 7/30\n",
            " - 18s - loss: 0.7357 - acc: 0.7351 - val_loss: 0.5780 - val_acc: 0.8088\n",
            "Epoch 8/30\n",
            " - 18s - loss: 0.7156 - acc: 0.7504 - val_loss: 0.7224 - val_acc: 0.7439\n",
            "Epoch 9/30\n",
            " - 18s - loss: 0.6994 - acc: 0.7498 - val_loss: 0.5740 - val_acc: 0.7951\n",
            "Epoch 10/30\n",
            " - 18s - loss: 0.6936 - acc: 0.7535 - val_loss: 0.7169 - val_acc: 0.7672\n",
            "Epoch 11/30\n",
            " - 18s - loss: 0.6560 - acc: 0.7673 - val_loss: 0.5986 - val_acc: 0.7803\n",
            "\n",
            "Epoch 00011: ReduceLROnPlateau reducing learning rate to 0.0005000000237487257.\n",
            "Epoch 12/30\n",
            " - 18s - loss: 0.5545 - acc: 0.8086 - val_loss: 0.5006 - val_acc: 0.8338\n",
            "Epoch 13/30\n",
            " - 18s - loss: 0.5454 - acc: 0.8083 - val_loss: 0.4809 - val_acc: 0.8372\n",
            "Epoch 14/30\n",
            " - 18s - loss: 0.5366 - acc: 0.8095 - val_loss: 0.5554 - val_acc: 0.8082\n",
            "Epoch 15/30\n",
            " - 18s - loss: 0.5044 - acc: 0.8248 - val_loss: 0.6560 - val_acc: 0.7803\n",
            "Epoch 16/30\n",
            " - 18s - loss: 0.5130 - acc: 0.8145 - val_loss: 0.4836 - val_acc: 0.8332\n",
            "Epoch 17/30\n",
            " - 18s - loss: 0.5302 - acc: 0.8075 - val_loss: 0.4907 - val_acc: 0.8287\n",
            "\n",
            "Epoch 00017: ReduceLROnPlateau reducing learning rate to 0.0002500000118743628.\n",
            "Epoch 18/30\n",
            " - 18s - loss: 0.4543 - acc: 0.8340 - val_loss: 0.4689 - val_acc: 0.8412\n",
            "Epoch 19/30\n",
            " - 18s - loss: 0.4509 - acc: 0.8346 - val_loss: 0.4123 - val_acc: 0.8606\n",
            "Epoch 20/30\n",
            " - 18s - loss: 0.4238 - acc: 0.8440 - val_loss: 0.4054 - val_acc: 0.8611\n",
            "Epoch 21/30\n",
            " - 18s - loss: 0.4351 - acc: 0.8503 - val_loss: 0.3987 - val_acc: 0.8600\n",
            "Epoch 22/30\n",
            " - 18s - loss: 0.4236 - acc: 0.8439 - val_loss: 0.4608 - val_acc: 0.8338\n",
            "Epoch 23/30\n",
            " - 18s - loss: 0.4559 - acc: 0.8340 - val_loss: 0.4135 - val_acc: 0.8566\n",
            "Epoch 24/30\n",
            " - 18s - loss: 0.4323 - acc: 0.8433 - val_loss: 0.3761 - val_acc: 0.8668\n",
            "Epoch 25/30\n",
            " - 18s - loss: 0.4014 - acc: 0.8538 - val_loss: 0.3731 - val_acc: 0.8662\n",
            "Epoch 26/30\n",
            " - 18s - loss: 0.4182 - acc: 0.8537 - val_loss: 0.3709 - val_acc: 0.8702\n",
            "Epoch 27/30\n",
            " - 18s - loss: 0.3943 - acc: 0.8573 - val_loss: 0.4428 - val_acc: 0.8520\n",
            "Epoch 28/30\n",
            " - 18s - loss: 0.4083 - acc: 0.8588 - val_loss: 0.3754 - val_acc: 0.8714\n",
            "Epoch 29/30\n",
            " - 18s - loss: 0.3882 - acc: 0.8693 - val_loss: 0.3634 - val_acc: 0.8685\n",
            "Epoch 30/30\n",
            " - 18s - loss: 0.3960 - acc: 0.8590 - val_loss: 0.3675 - val_acc: 0.8736\n"
          ],
          "name": "stdout"
        }
      ]
    },
    {
      "metadata": {
        "id": "SPvcC1RPuSqW",
        "colab_type": "code",
        "colab": {
          "autoexec": {
            "startup": false,
            "wait_interval": 0
          },
          "base_uri": "https://localhost:8080/",
          "height": 71
        },
        "outputId": "5b4186e2-cb73-4003-b289-9e24feb97cb5",
        "executionInfo": {
          "status": "ok",
          "timestamp": 1523987352137,
          "user_tz": -330,
          "elapsed": 5232,
          "user": {
            "displayName": "ayush gupta",
            "photoUrl": "//lh5.googleusercontent.com/-SmYRJDgC_jI/AAAAAAAAAAI/AAAAAAAACvk/Iqu4XSMC0tM/s50-c-k-no/photo.jpg",
            "userId": "107111856202799795670"
          }
        }
      },
      "cell_type": "code",
      "source": [
        "!pip install h5py"
      ],
      "execution_count": 41,
      "outputs": [
        {
          "output_type": "stream",
          "text": [
            "Requirement already satisfied: h5py in /usr/local/lib/python3.6/dist-packages\r\n",
            "Requirement already satisfied: six in /usr/local/lib/python3.6/dist-packages (from h5py)\r\n",
            "Requirement already satisfied: numpy>=1.7 in /usr/local/lib/python3.6/dist-packages (from h5py)\r\n"
          ],
          "name": "stdout"
        }
      ]
    },
    {
      "metadata": {
        "id": "fTs6TF_CrOqZ",
        "colab_type": "code",
        "colab": {
          "autoexec": {
            "startup": false,
            "wait_interval": 0
          },
          "base_uri": "https://localhost:8080/",
          "height": 347
        },
        "outputId": "43247df3-c0a4-4934-d4fd-e5e420e9ff4b",
        "executionInfo": {
          "status": "ok",
          "timestamp": 1523986688768,
          "user_tz": -330,
          "elapsed": 1627,
          "user": {
            "displayName": "ayush gupta",
            "photoUrl": "//lh5.googleusercontent.com/-SmYRJDgC_jI/AAAAAAAAAAI/AAAAAAAACvk/Iqu4XSMC0tM/s50-c-k-no/photo.jpg",
            "userId": "107111856202799795670"
          }
        }
      },
      "cell_type": "code",
      "source": [
        "# Plot the loss and accuracy curves for training and validation \n",
        "fig, ax = plt.subplots(2,1)\n",
        "ax[0].plot(history.history['loss'], color='b', label=\"Training loss\")\n",
        "ax[0].plot(history.history['val_loss'], color='r', label=\"validation loss\",axes =ax[0])\n",
        "legend = ax[0].legend(loc='best', shadow=True)\n",
        "\n",
        "ax[1].plot(history.history['acc'], color='b', label=\"Training accuracy\")\n",
        "ax[1].plot(history.history['val_acc'], color='r',label=\"Validation accuracy\")\n",
        "legend = ax[1].legend(loc='best', shadow=True)"
      ],
      "execution_count": 33,
      "outputs": [
        {
          "output_type": "display_data",
          "data": {
            "image/png": "[encoded data removed]",
            "text/plain": [
              "<matplotlib.figure.Figure at 0x7f5bcd8832e8>"
            ]
          },
          "metadata": {
            "tags": []
          }
        }
      ]
    },
    {
      "metadata": {
        "id": "i5-DVT76uhr1",
        "colab_type": "code",
        "colab": {
          "autoexec": {
            "startup": false,
            "wait_interval": 0
          },
          "base_uri": "https://localhost:8080/",
          "height": 35
        },
        "outputId": "68bc8159-7bd9-490c-a3f7-8d132c794348",
        "executionInfo": {
          "status": "ok",
          "timestamp": 1523987503229,
          "user_tz": -330,
          "elapsed": 6489,
          "user": {
            "displayName": "ayush gupta",
            "photoUrl": "//lh5.googleusercontent.com/-SmYRJDgC_jI/AAAAAAAAAAI/AAAAAAAACvk/Iqu4XSMC0tM/s50-c-k-no/photo.jpg",
            "userId": "107111856202799795670"
          }
        }
      },
      "cell_type": "code",
      "source": [
        "# evaluate the model\n",
        "scores = model.evaluate(x_train, y_train, verbose=0)\n",
        "print(\"%s: %.2f%%\" % (model.metrics_names[1], scores[1]*100))"
      ],
      "execution_count": 43,
      "outputs": [
        {
          "output_type": "stream",
          "text": [
            "acc: 91.95%\n"
          ],
          "name": "stdout"
        }
      ]
    },
    {
      "metadata": {
        "id": "LrIDbfp_vCCo",
        "colab_type": "code",
        "colab": {
          "autoexec": {
            "startup": false,
            "wait_interval": 0
          },
          "base_uri": "https://localhost:8080/",
          "height": 35
        },
        "outputId": "1489a1ec-06b9-415e-b4ac-b1b116b262bf",
        "executionInfo": {
          "status": "ok",
          "timestamp": 1523987541108,
          "user_tz": -330,
          "elapsed": 4260,
          "user": {
            "displayName": "ayush gupta",
            "photoUrl": "//lh5.googleusercontent.com/-SmYRJDgC_jI/AAAAAAAAAAI/AAAAAAAACvk/Iqu4XSMC0tM/s50-c-k-no/photo.jpg",
            "userId": "107111856202799795670"
          }
        }
      },
      "cell_type": "code",
      "source": [
        "# evaluate the model\n",
        "scores = model.evaluate(x_test, y_test, verbose=0)\n",
        "print(\"%s: %.2f%%\" % (model.metrics_names[1], scores[1]*100))"
      ],
      "execution_count": 44,
      "outputs": [
        {
          "output_type": "stream",
          "text": [
            "acc: 87.36%\n"
          ],
          "name": "stdout"
        }
      ]
    },
    {
      "metadata": {
        "id": "N5UNhvWasiwZ",
        "colab_type": "code",
        "colab": {
          "autoexec": {
            "startup": false,
            "wait_interval": 0
          },
          "base_uri": "https://localhost:8080/",
          "height": 35
        },
        "outputId": "e3e8a534-d9c6-44fe-92af-9cfa5dde26a2",
        "executionInfo": {
          "status": "ok",
          "timestamp": 1523988992727,
          "user_tz": -330,
          "elapsed": 13802,
          "user": {
            "displayName": "ayush gupta",
            "photoUrl": "//lh5.googleusercontent.com/-SmYRJDgC_jI/AAAAAAAAAAI/AAAAAAAACvk/Iqu4XSMC0tM/s50-c-k-no/photo.jpg",
            "userId": "107111856202799795670"
          }
        }
      },
      "cell_type": "code",
      "source": [
        "filename = './drive/datasets/leafmodel.h5'\n",
        "# serialize weights to HDF5\n",
        "model.save_weights(filename)\n",
        "print(\"Saved model to disk\")"
      ],
      "execution_count": 49,
      "outputs": [
        {
          "output_type": "stream",
          "text": [
            "Saved model to disk\n"
          ],
          "name": "stdout"
        }
      ]
    },
    {
      "metadata": {
        "id": "NeWnVLApqtci",
        "colab_type": "code",
        "colab": {
          "autoexec": {
            "startup": false,
            "wait_interval": 0
          }
        }
      },
      "cell_type": "code",
      "source": [
        ""
      ],
      "execution_count": 0,
      "outputs": []
    }
  ]
}